{
 "cells": [
  {
   "cell_type": "code",
   "execution_count": 1,
   "id": "e4e4cb4b-468b-420f-baad-a9680122335a",
   "metadata": {
    "tags": []
   },
   "outputs": [],
   "source": [
    "import requests\n",
    "from bs4 import BeautifulSoup\n",
    "import pandas as pd"
   ]
  },
  {
   "cell_type": "code",
   "execution_count": 2,
   "id": "df915e9b-9a32-4544-8ec5-9ebb2532f296",
   "metadata": {},
   "outputs": [],
   "source": [
    "url = 'https://www.worldometers.info/coronavirus/'\n",
    "\n",
    "# Realizamos la petición al sitio web\n",
    "response = requests.get(url)\n",
    "soup = BeautifulSoup(response.content, 'html.parser')"
   ]
  },
  {
   "cell_type": "code",
   "execution_count": 5,
   "id": "e5ba4d39-ab38-4f04-a389-8bd29026dc11",
   "metadata": {},
   "outputs": [],
   "source": [
    "# Encontramos la tabla por sus atributos o por su clase\n",
    "table = soup.find('table', id='main_table_countries_today')\n",
    "\n",
    "# Vamos a extraer las filas de la tabla sin incluir el encabezado (la primera fila)\n",
    "rows = table.find_all('tr')[1:]\n",
    "\n",
    "data = []\n",
    "for row in rows:\n",
    "    cols = row.find_all('td')\n",
    "    if len(cols) > 1:  # esto verifica que realmente estamos obteniendo las columnas de datos\n",
    "        data.append({\n",
    "            'País': cols[1].text.strip(),\n",
    "            'Total Casos': cols[2].text.strip(),\n",
    "            'Nuevos Casos': cols[3].text.strip(),\n",
    "            'Total Muertes': cols[4].text.strip(),\n",
    "            'Nuevas Muertes': cols[5].text.strip(),\n",
    "            'Total Recuperados': cols[6].text.strip(),\n",
    "            'Casos Activos': cols[8].text.strip(),\n",
    "            'Casos Críticos': cols[9].text.strip(),\n",
    "            'Casos por millón': cols[12].text.strip(),\n",
    "            'Muertes por millón': cols[13].text.strip(),\n",
    "            'Pruebas realizadas': cols[14].text.strip(),\n",
    "            'Pruebas por millón': cols[15].text.strip(),\n",
    "            'Población': cols[16].text.strip()\n",
    "        })\n",
    "\n",
    "# Convertimos la lista de diccionarios a DataFrame\n",
    "df = pd.DataFrame(data)\n",
    "\n",
    "path_to_save_csv = r'C:\\Users\\Selu\\Desktop/who-covid.csv'\n",
    "\n",
    "df.to_csv(path_to_save_csv, index=False)"
   ]
  },
  {
   "cell_type": "code",
   "execution_count": null,
   "id": "b383a098-b906-4fa0-af94-02936319bd7a",
   "metadata": {},
   "outputs": [],
   "source": []
  }
 ],
 "metadata": {
  "kernelspec": {
   "display_name": "Python 3 (ipykernel)",
   "language": "python",
   "name": "python3"
  },
  "language_info": {
   "codemirror_mode": {
    "name": "ipython",
    "version": 3
   },
   "file_extension": ".py",
   "mimetype": "text/x-python",
   "name": "python",
   "nbconvert_exporter": "python",
   "pygments_lexer": "ipython3",
   "version": "3.9.13"
  }
 },
 "nbformat": 4,
 "nbformat_minor": 5
}
